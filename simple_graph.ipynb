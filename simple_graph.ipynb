{
 "cells": [
  {
   "cell_type": "code",
   "execution_count": null,
   "id": "47371bac",
   "metadata": {},
   "outputs": [],
   "source": [
    "\n",
    "from typing_extensions import TypedDict\n",
    "\n",
    "class State(TypedDict):\n",
    "    graph_info:str\n"
   ]
  },
  {
   "cell_type": "code",
   "execution_count": 2,
   "id": "8561e305",
   "metadata": {},
   "outputs": [],
   "source": [
    "# Nodes\n",
    "\n",
    "def play(state:State):\n",
    "\n",
    "    print(\"Calling Play method\")\n",
    "\n",
    "    return {\"graph_info\" : state[\"graph_info\"] + \"I am planning to play\"}\n",
    "\n",
    "\n",
    "def cricket(state:State):\n",
    "\n",
    "    print(\"Calling cricket method\")\n",
    "\n",
    "    return {\"graph_info\" : state[\"graph_info\" + \" Cricket\"]}\n",
    "\n",
    "\n",
    "def football(state:State):\n",
    "\n",
    "    print(\"Calling football method\")\n",
    "    return {\"graph_info\" : state[\"graph_info\"] + \" Football\"}\n",
    "\n"
   ]
  },
  {
   "cell_type": "code",
   "execution_count": 3,
   "id": "aa00d675",
   "metadata": {},
   "outputs": [],
   "source": [
    "import random\n",
    "from typing import Literal\n",
    "\n",
    "def random_play(state: 'State') -> Literal[\"football\", \"cricket\"]:\n",
    "    print(\"Selecting game to play\")\n",
    "    return \"football\" if random.random() > 0.5 else \"cricket\"\n"
   ]
  },
  {
   "cell_type": "code",
   "execution_count": 8,
   "id": "0d15b3ad",
   "metadata": {},
   "outputs": [
    {
     "data": {
      "text/plain": [
       "<langgraph.graph.state.StateGraph at 0x10c621a90>"
      ]
     },
     "execution_count": 8,
     "metadata": {},
     "output_type": "execute_result"
    }
   ],
   "source": [
    "from IPython.display import display,Image\n",
    "from langgraph.graph import StateGraph,START,END\n",
    "\n",
    "graph = StateGraph(State)\n",
    "\n",
    "graph.add_node(\"play\" , play)\n",
    "graph.add_node(\"cricket\" , cricket)\n",
    "graph.add_node(\"football\" , football)\n",
    "\n",
    "# scheduling the workflow\n",
    "\n",
    "graph.add_edge(START , \"play\")\n",
    "graph.add_conditional_edges(\"play\" , random_play)\n",
    "graph.add_edge(\"cricket\" , END)\n",
    "graph.add_edge( \"football\" ,END)\n",
    "\n"
   ]
  },
  {
   "cell_type": "code",
   "execution_count": 9,
   "id": "f4535174",
   "metadata": {},
   "outputs": [
    {
     "data": {
      "image/png": "[encoded data removed]",
      "text/plain": [
       "<IPython.core.display.Image object>"
      ]
     },
     "metadata": {},
     "output_type": "display_data"
    }
   ],
   "source": [
    "graph_builder  = graph.compile()\n",
    "\n",
    "display(Image(graph_builder.get_graph().draw_mermaid_png()))"
   ]
  },
  {
   "cell_type": "code",
   "execution_count": null,
   "id": "313ed29e",
   "metadata": {},
   "outputs": [],
   "source": []
  }
 ],
 "metadata": {
  "kernelspec": {
   "display_name": "venv",
   "language": "python",
   "name": "python3"
  },
  "language_info": {
   "codemirror_mode": {
    "name": "ipython",
    "version": 3
   },
   "file_extension": ".py",
   "mimetype": "text/x-python",
   "name": "python",
   "nbconvert_exporter": "python",
   "pygments_lexer": "ipython3",
   "version": "3.13.2"
  }
 },
 "nbformat": 4,
 "nbformat_minor": 5
}
