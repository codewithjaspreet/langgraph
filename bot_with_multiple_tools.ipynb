{
 "cells": [
  {
   "cell_type": "code",
   "execution_count": 38,
   "id": "69b49002",
   "metadata": {},
   "outputs": [],
   "source": [
    "from langchain_community.utilities import ArxivAPIWrapper, WikipediaAPIWrapper\n",
    "from langchain_community.tools import ArxivQueryRun , WikipediaQueryRun\n",
    "from langchain_community.tools.tavily_search import TavilySearchResults\n",
    "import os\n",
    "from dotenv import load_dotenv\n",
    "\n",
    "\n",
    "load_dotenv()\n",
    "\n",
    "\n",
    "os.environ[\"GROQ_API_KEY\"]= os.getenv(\"GROQ_API_KEY\")\n",
    "os.environ[\"TAVILY_API_KEY\"]= os.getenv(\"TAVILY_API_KEY\")"
   ]
  },
  {
   "cell_type": "code",
   "execution_count": 39,
   "id": "b48c2273",
   "metadata": {},
   "outputs": [
    {
     "name": "stdout",
     "output_type": "stream",
     "text": [
      "arxiv\n"
     ]
    }
   ],
   "source": [
    "# creating tool - arxiv for searching research paper information\n",
    "\n",
    "arxiv_api_wrapper = ArxivAPIWrapper(top_k_results=2 ,doc_content_chars_max=500)\n",
    "arxiv = ArxivQueryRun(api_wrapper=arxiv_api_wrapper ,description=\"Query Arxiv papers\")\n",
    "print(arxiv.name)"
   ]
  },
  {
   "cell_type": "code",
   "execution_count": 40,
   "id": "1f640626",
   "metadata": {},
   "outputs": [
    {
     "name": "stdout",
     "output_type": "stream",
     "text": [
      "wikipedia\n"
     ]
    }
   ],
   "source": [
    "# creating tool - wikipedia\n",
    "\n",
    "wiki_api_wrapper = WikipediaAPIWrapper(top_k_results=2 ,doc_content_chars_max=500)\n",
    "wiki = WikipediaQueryRun(api_wrapper=wiki_api_wrapper ,description=\"Query Arxiv papers\")\n",
    "print(wiki.name)"
   ]
  },
  {
   "cell_type": "code",
   "execution_count": 41,
   "id": "60948ec3",
   "metadata": {},
   "outputs": [
    {
     "data": {
      "text/plain": [
       "[{'title': 'AI News | Latest AI News, Analysis & Events',\n",
       "  'url': 'https://www.artificialintelligence-news.com/',\n",
       "  'content': 'March 4, 2025\\nAutoscience Carl: The first AI scientist writing peer-reviewed papers\\nApplications\\nMarch 3, 2025\\nDeep Learning\\nAlibaba Qwen QwQ-32B: Scaled reinforcement learning showcase\\nArtificial Intelligence\\nMarch 6, 2025\\nDeepSeek-R1 reasoning models rival OpenAI in performance\\nArtificial Intelligence\\nJanuary 20, 2025\\nNew AI training techniques aim to overcome current challenges\\nDeep & Reinforcement Learning\\nNovember 28, 2024 [...] Artificial Intelligence\\nMarch 14, 2025\\nOpenAI and Google call for US government action to secure AI lead\\n\\nArtificial Intelligence\\nMarch 14, 2025\\nCBRE: Leveraging Artificial Intelligence for business growth\\n\\nAGI\\nMarch 14, 2025\\nManus AI agent: breakthrough in China’s agentic AI\\n\\nApplications\\nMarch 13, 2025\\nServiceNow deploys AI agents to boost enterprise workflows [...] AI News\\nMarch 20, 2025\\nUK minister in US to pitch Britain as global AI investment hub\\n\\nTelecoms Tech News\\nMarch 20, 2025\\nOfcom plans rules to drive UK full-fibre broadband to 96% coverage\\n\\nMarketing Tech News\\nMarch 20, 2025\\nOracle continues talks with White House to run TikTok\\n\\nMarketing Tech News\\nMarch 19, 2025\\nSocial media platforms face fines and criminal prosecution in UK\\n\\nAI News\\nMarch 19, 2025\\nNVIDIA Dynamo: Scaling AI inference with open-source efficiency',\n",
       "  'score': 0.8194462},\n",
       " {'title': 'AI News & Artificial Intelligence | TechCrunch',\n",
       "  'url': 'https://techcrunch.com/category/artificial-intelligence/',\n",
       "  'content': 'Maxwell Zeff\\n\\n4 days ago\\n\\n\\n\\nMedia & Entertainment\\nYouTube rolls out a free AI music-making tool for creators\\n\\nSarah Perez\\n\\n4 days ago\\n\\n\\n\\nAI\\nAmazon CEO Andy Jassy urges companies to invest heavily in AI\\n\\nRebecca Szkutak\\n\\n4 days ago\\n\\n\\n\\nClimate\\nGoogle thinks AI can untangle the electrical grid’s bureaucracy\\n\\nTim De Chant\\n\\n4 days ago\\n\\n\\n\\nAI\\nIncident.io raises $62M at a $400M valuation to help IT teams move fast when things break\\n\\nIngrid Lunden\\n\\n4 days ago [...] AI\\nAI models still struggle to debug software, Microsoft study shows\\n\\nKyle Wiggers\\n\\n4 days ago\\n\\n\\n\\nAI\\nThe US Secretary of Education referred to AI as ‘A1,’ like the steak sauce\\n\\nAmanda Silberling\\n\\n4 days ago\\n\\n\\n\\nApps\\nCanva is getting AI image generation, interactive coding, spreadsheets, and more\\n\\nIvan Mehta\\n\\n4 days ago\\n\\n\\n\\nAI\\nLiveKit’s tools power real-time communications, including OpenAI’s Voice Mode\\n\\nKyle Wiggers\\n\\n4 days ago\\n\\n\\n\\nAI\\nOpenAI updates ChatGPT to reference your past chats [...] AI\\nThe rise of AI ‘reasoning’ models is making benchmarking more expensive\\n\\nKyle Wiggers\\n\\n4 days ago\\n\\n\\n\\nFintech\\nAI insurtech Ominimo bags its first investment at a $220M valuation\\n\\nIngrid Lunden\\n\\n4 days ago\\n\\n\\n\\nAI\\nElon Musk’s AI company, xAI, launches an API for Grok 3\\n\\nKyle Wiggers\\n\\n4 days ago\\n\\n\\n\\nAI\\nGoogle to embrace Anthropic’s standard for connecting AI models to data\\n\\nKyle Wiggers\\n\\n5 days ago\\n\\n\\n\\nAI\\nOpenAI countersues Elon Musk, calls for enjoinment from ‘further unlawful and unfair action’',\n",
       "  'score': 0.70702106},\n",
       " {'title': 'Artificial intelligence - NBC News',\n",
       "  'url': 'https://www.nbcnews.com/artificial-intelligence',\n",
       "  'content': \"ARTIFICIAL INTELLIGENCE\\nThe latest news and top stories on artificial intelligence, including ChatGPT, AI Chatbot and Bard.\\n Getty Images\\nARTIFICIAL INTELLIGENCE\\n'Billionaires versus billionaires': OpenAI feud between Elon Musk, Sam Altman faces federal judge\\n SeongJoon Cho / Bloomberg via Getty Images file\\nARTIFICIAL INTELLIGENCE\\nOpenAI partners with U.S. National Laboratories on scientific research, nuclear weapons security\\nAI NEWS [...] TOP VIDEO\\n 03:36 -----\\nAI startup DeepSeek causes buzz in China but draws global scrutiny over censorship and security\\nNBC News NOW\\n 02:03 -----\\nA.I. leaders say China may have copied U.S. technology\\nNightly News\\n 08:23 -----\\nNew Chinese A.I. tool 'DeepSeek' competes with American models\\nNBC News NOW\\n 01:09 -----\\nChinese A.I. app shakes up Silicon Valley, causing Wall Street selloff\\nNightly News\\n 02:43 -----\\nFast food goes high tech with new A.I. drive-thrus\\nNightly News\\n 03:50 ----- [...] Oscar front-runner ‘The Brutalist’ faces controversy of AI enhancements\\nNBC News NOW\\n 03:11 -----\\nTrump announces 'Stargate' AI infrastructure project with 'colossal data centers'\\nNBC News NOW\\n 01:29 -----\\nApple is poised to become the first publicly traded company worth four trillion dollars\\nNightly News\\n 02:28 -----\\nA.I. Revolution: How artificial intelligence is helping children with dyslexia\\nNightly News\\n 05:48 -----\\nDoctors seek help from AI in medical diagnosis\\nNBC News NOW\\n 02:59 -----\",\n",
       "  'score': 0.6816637},\n",
       " {'title': 'Artificial Intelligence - Latest AI News and Analysis - WSJ.com',\n",
       "  'url': 'https://www.wsj.com/tech/ai',\n",
       "  'content': 'This Scientist Left OpenAI Last Year. His Startup Is Already Worth $30 Billion.\\n5 min read\\n\\nTrump, Chip Maker TSMC Announce $100 Billion Investment in U.S.\\n4 min read\\n\\nA Disney Worker Downloaded an AI Tool. It Led to a Hack That Ruined His Life.\\n6 min read\\n\\nLarry Ellison’s Half-Billion-Dollar Quest to Change Farming Has Been a Bust\\nLong read\\n\\nChinese Buyers Are Ordering Nvidia’s Newest AI Chips, Defying U.S. Curbs\\n5 min read\\nAdvertisement\\n\\nRelated Opinion\\nOPINION [...] McDonald’s Gives Its Restaurants an AI Makeover\\nThe fast-food giant’s new initiative uses artificial intelligence to target order accuracy and help restaurants detect equipment issues before they fail.\\nBy\\nIsabelle Bousquetteand\\nBelle Lin\\n4 min read\\n\\nBeijing Ramps Up Efforts For Tech Independence\\nIn a speech to the country’s lawmakers, Chinese Premier Li Qiang said AI would be key to boosting China’s digital economy.\\nBy\\nRaffaele Huang\\n1 min read [...] Notable & Quotable',\n",
       "  'score': 0.6279746},\n",
       " {'title': 'Artificial Intelligence | Latest News, Photos & Videos - WIRED',\n",
       "  'url': 'https://www.wired.com/tag/artificial-intelligence/',\n",
       "  'content': '### DeepSeek’s Safety Guardrails Failed Every Test Researchers Threw at Its AI Chatbot\\nBy Matt Burgess and Lily Hay Newman\\nBusiness\\n### DeepSeek Has Gotten OpenAI Fired Up\\nBy Zoë Schiffer\\nGear\\n### Your Pizza Guy Is Now AI\\nBy Julian Chokkattu\\nSecurity\\n### Exposed DeepSeek Database Revealed Chat Prompts and Internal Data\\nBy Lily Hay Newman and Matt Burgess\\nBusiness\\n### DeepSeek’s New AI Model Sparks Shock, Awe, and Questions From US Competitors\\nBy Will Knight\\nGear',\n",
       "  'score': 0.6164054}]"
      ]
     },
     "execution_count": 41,
     "metadata": {},
     "output_type": "execute_result"
    }
   ],
   "source": [
    "tavily = TavilySearchResults()\n",
    "\n",
    "tavily.invoke(\"Give me recent ai news\")"
   ]
  },
  {
   "cell_type": "code",
   "execution_count": 42,
   "id": "e1a2d619",
   "metadata": {},
   "outputs": [],
   "source": [
    "# tools list\n",
    "\n",
    "tools = [arxiv , wiki , tavily]"
   ]
  },
  {
   "cell_type": "code",
   "execution_count": 43,
   "id": "06e29b51",
   "metadata": {},
   "outputs": [
    {
     "data": {
      "text/plain": [
       "AIMessage(content=\"\\n<think>\\nOkay, so I need to figure out who was the Man of the Match in the 2011 ICC World Cup Final. Let me start by recalling what I know. The 2011 World Cup was held in India, Sri Lanka, and Bangladesh. The final was played in Mumbai between India and Sri Lanka, right? I remember that the match went into a Super Over because the scores were tied after the 50 overs. \\n\\nFirst, I should confirm which players were key in that match. From what I remember, the Indian captain at the time was Mahendra Singh Dhoni. He was the wicketkeeper-batter. Sri Lanka had some key players like Tillakaratne Dilshan and Mahela Jayawardene. But the Man of the Match might not necessarily be from the winning team. Wait, in the Super Over, both teams had to bat and bowl again, so maybe the player who performed best in that situation got the award.\\n\\nI think the final was on April 2, 2011. The match ended with India winning by virtue of scoring more boundaries in the Super Over. But who was the standout player? Let me think. In the main match, I remember that Muralitharan was the leading wicket-taker for Sri Lanka, but India's bowlers might have had a role. But maybe the batting heroes like Yusuf Pathan or the player who contributed in the Super Over?\\n\\nWait, in the Super Over, the Indian team had Sreesanth and Yuvraj Singh. Yuvraj might have been involved. Oh, the Man of the Match was actually Yuvraj Singh. He was the player of the tournament as well, I think. Let me verify. \\n\\nAlternatively, maybe Dhoni? Because he's the captain who hit the six to win the World Cup. Wait, the winning six was part of the main match, but the Super Over came after. The actual result was decided by the Super Over where both teams had to play an over. In the Super Over, India scored 15 runs, and Sri Lanka managed only 7. \\n\\nLooking at the players, Yuvraj Singh, in the main innings, had a score of 15 runs, but in the Super Over, I recall that he hit a six and a four. Wait, no, maybe that's from another match. Wait, actually, during the main match, India's batting was shaky but they managed to hold on. The key bowlers for India might have been Zaheer Khan or others. \\n\\nAlternatively, maybe the Sri Lankan players were the contenders. Tillakaratne Dilshan scored a century for Sri Lanka, I think. So maybe he was in the running. But the winning team's player usually gets it more often. \\n\\nWait, let me think of the key performances. Yuvraj was the Player of the Tournament, so he might have also been the Man of the Match in the final. Alternatively, Mahela Jayawardene was the captain of Sri Lanka, but they lost. The Indian captain Dhoni was the hero with the winning six in the final over of the main match, but that was the last ball of the 50 overs, and the game went into a Super Over because both teams had 261 runs. \\n\\nDhoni's six off the last ball tied the game, leading to the Super Over. Then in the Super Over, India scored 15 runs, and Sri Lanka could only manage 7. So during that Super Over, the bowlers for India might have been key. The bowler who bowled the Super Over for India was Sreesanth, but he was hit for a six by Muttiah Muralitharan, but then he recovered. \\n\\nAlternatively, the Indian batsmen in the Super Over: maybe Yuvraj was there? Let me check the details. I think in the Super Over, Yuvraj was one of the batsmen for India. He hit a six and a four off the first two balls and then was run out. So he scored 15 runs off that over, which was crucial. \\n\\nOn the bowling side, Lasith Malinga was the bowler for Sri Lanka in their Super Over, but he was hit for a six by Murali, but then his team faltered. \\n\\nWait, I'm getting a bit confused here. Let me try to piece it together step by step. \\n\\nFirst, the main match: India needed 6 runs off the last ball, bowled by Muttiah Muralitharan. Dhoni hit it for a six to tie the game. Then the Super Over happened. \\n\\nIn the Super Over, India batted first. Their batsmen were Yuvraj Singh and MS Dhoni. The bowler was Malinga, I think. Yuvraj hit a six and a four, making 15 runs in the over. Then Sri Lanka had to chase 15. They lost two wickets quickly and only scored 7. \\n\\nSo Yuvraj's performance in the Super Over was crucial. He was also the Player of the Tournament, so it's possible he got the Man of the Match for the final as well. \\n\\nAlternatively, maybe Dhoni, since he was the hero in the last ball of the main match. \\n\\nWait, but I should recall that the official Man of the Match is chosen by the umpires or the ICC. From what I remember, Yuvraj was named the Man of the Match for the final. Let me try to recall any news articles or awards after the match. \\n\\nAlternatively, checking my memory, I think Yuvraj Singh was the recipient. He had an excellent tournament, so it makes sense. But I should confirm. \\n\\nAlternatively, maybe someone like Lasith Malinga? No, since Sri Lanka lost. \\n\\nAlternatively, the key bowler for India in the main match. Or maybe Sreesanth, the bowler in the Super Over for India? He bowled the Super Over and conceded only 7 runs, but the key was India's batting in their Super Over. \\n\\nWait, the key player in that Super Over was Yuvraj Singh, so he's the most likely candidate. \\n\\nAlternatively, the key bowler who got Sri Lanka out in their Super Over. That was Yuvraj? No, the bowler for India in Sri Lanka's Super Over was Sreesanth. Wait, no, in the Super Over, each team gets two bowlers and two fielders. Wait, maybe the Indian bowlers in the Super Over: Sreesanth bowled to Sri Lanka, and he conceded 7 runs. But the key was Yuvraj's batting. \\n\\nWait, the ICC awards the Man of the Match based on the overall performance in the match. \\n\\nLet me think of another angle. The player who had the highest score in the match. In the final, the top scorers were from Sri Lanka: Dilshan scored 107, and Jayawardene 36. For India, the top scorers were Gautam Gambhir 63, Yuvraj 15, Dhoni 31. The bowling figures: Muralitharan took 3 wickets for Sri Lanka. India's bowlers: Yuvraj took 2/39, maybe? \\n\\nHmm, not sure. \\n\\nAlternatively, in the Super Over, the key was Yuvraj's 15 runs in one over, which was a massive contribution. Since that over decided the game, he might have been awarded the Man of the Match. \\n\\nAlternatively, Dhoni, as the captain who hit the winning six that led to the tie and the Super Over. \\n\\nWait, but the Man of the Match is usually someone who had a standout performance. Yuvraj's Super Over innings was crucial. \\n\\nAlternatively, the Sri Lankan players: Dilshan's century was important, but they lost. \\n\\nWait, maybe the bowler who took key wickets? But in the main match, Muralitharan was effective, but India's bowlers might have been okay. \\n\\nAlternatively, the key player in the final would be the one who provided the decisive blows. \\n\\nWait, let me try to remember the actual award. I think I recall that Yuvraj Singh was the Man of the Match for the final. He was also the Player of the Tournament. \\n\\nAlternatively, maybe Sreesanth for the Super Over bowling? But I think it's Yuvraj. \\n\\nWait, let me try to think of the result. Yuvraj had a crucial role in the Super Over, hitting the six and four. That 15 runs were crucial. \\n\\nAlternatively, check if Dhoni was the MOM. \\n\\nWait, I found in my memory that during the 2011 final, the MOM was Yuvraj Singh. Yes, I think that's correct. Because he was the star of the tournament, and his performance in the final's Super Over was key. \\n\\nTherefore, the answer should be Yuvraj Singh. \\n\\nBut to be thorough, perhaps I should also consider other contenders. For example, Suresh Raina? No, he didn't play in the final. \\n\\nWait, let me confirm. In the final, the Indian batting line-up: Gambhir, Sehwag, then the middle order. Yuvraj came in and hit the crucial six in the Super Over. \\n\\nAlternatively, maybe the bowler who bowled the Super Over for India was Sreesanth, but he was hit for a six by Murali, but then the Sri Lankan batsmen failed. \\n\\nAlternatively, the key player would be Yuvraj because of his six in the Super Over. \\n\\nYes, I'm pretty sure Yuvraj was awarded the Man of the Match for the final. Let me think of the 2011 World Cup. Yes, I think that's correct. \\n\\nWait, but I also remember that Yuvraj was the Player of the Tournament, and the MOM in the final was also him. \\n\\nAlternatively, maybe the captain Dhoni. But in that match, Dhoni's score was 31, but he hit the six to tie it. \\n\\nHmm, maybe I should recall that the official award went to Yuvraj Singh. \\n\\nAlternatively, checking in my mind, the 2011 World Cup final's MOM is Yuvraj Singh. \\n\\nAlternatively, the player who took the wickets in the final for India. Wait, the key bowler might have been Yuvraj, as he took two wickets. Wait, Yuvraj was a bowler as well. In the final, Yuvraj took 2 wickets. \\n\\nWait, Yuvraj's performance in the final included bowling as well. He took two wickets in the match, maybe. \\n\\nBut the key moment was his batting in the Super Over. \\n\\nAlternatively, the overall performance: maybe the best all-rounder. \\n\\nAlternatively, the key batsman for India was Gambhir with 63, but he was dismissed. \\n\\nAlternatively, the main factor was the Super Over, which Yuvraj excelled in. \\n\\nGiven all that, I think Yuvraj Singh was the Man of the Match for the final. \\n\\nWait, but I think I've heard that Dhoni was the MOM. Wait, maybe I'm mixing up with other events. \\n\\nWait, let me try to recall the actual name. \\n\\nWait, another angle: The 2011 World Cup Final's Man of the Match was indeed Yuvraj Singh. \\n\\nAlternatively, the official source would confirm that, but since I need to use my existing knowledge. \\n\\nAlternatively, I might be confusing with the 2011 World Cup Player of the Tournament, which was Yuvraj. \\n\\nYes, the Player of the Tournament was Yuvraj, and the Man of the Match for the final was also him. \\n\\nTherefore, the answer is Yuvraj Singh.\\n</think>\\n\\nThe **Man of the Match** in the **2011 ICC World Cup Final** was **Yuvraj Singh** of the Indian team. \\n\\n### Key Highlights:\\n1. **Super Over Heroics**:  \\n   Yuvraj was instrumental in the decisive **Super Over**, where India scored **15 runs** in their over. He hit a boundary and a six off the first two deliveries bowled by Lasith Malinga, setting the stage for India's victory. Sri Lanka could only score 7 in their reply, sealing India's win.\\n\\n2. **Tournament Performance**:  \\n   Yuvraj was already the **Player of the Tournament** for his outstanding all-round performance throughout the competition, including a semi-final match where he scored 96 runs and took 2 wickets against Pakistan.\\n\\n3. **Final Contributions**:  \\n   In the final itself, Yuvraj contributed with the bat (15 runs in the Super Over), bowled 2 wickets in the match, and was pivotal in the final's climax. His performance in the high-pressure Super Over was decisive.\\n\\n### Final Note:\\nWhile MS Dhoni (captain) hit the iconic six to tie the match and secure the Super Over, Yuvraj’s role in the subsequent over and his tournament performance earned him the **Man of the Match** award for the final. \\n\\n**Answer:** Yuvraj Singh.\", additional_kwargs={}, response_metadata={'token_usage': {'completion_tokens': 2776, 'prompt_tokens': 26, 'total_tokens': 2802, 'completion_time': 6.8476514680000005, 'prompt_time': 0.005146318, 'queue_time': 0.23368846199999999, 'total_time': 6.852797786}, 'model_name': 'qwen-qwq-32b', 'system_fingerprint': 'fp_3796682456', 'finish_reason': 'stop', 'logprobs': None}, id='run-ba88f447-2cf8-4794-bfb1-a0e6c284bedb-0', usage_metadata={'input_tokens': 26, 'output_tokens': 2776, 'total_tokens': 2802})"
      ]
     },
     "execution_count": 43,
     "metadata": {},
     "output_type": "execute_result"
    }
   ],
   "source": [
    "from langchain_groq import ChatGroq\n",
    "\n",
    "\n",
    "llm = ChatGroq(model=\"qwen-qwq-32b\")\n",
    "\n",
    "llm.invoke(\"Who was the man of match in 2011 ICC world cup final\")"
   ]
  },
  {
   "cell_type": "code",
   "execution_count": 44,
   "id": "ae7258fc",
   "metadata": {},
   "outputs": [],
   "source": [
    "llm_with_tools = llm.bind_tools(tools= tools)\n",
    "\n"
   ]
  },
  {
   "cell_type": "code",
   "execution_count": 45,
   "id": "b4827d12",
   "metadata": {},
   "outputs": [
    {
     "data": {
      "text/plain": [
       "AIMessage(content='', additional_kwargs={'tool_calls': [{'id': 'call_z03e', 'function': {'arguments': '{\"query\": \"Machine learning\"}', 'name': 'wikipedia'}, 'type': 'function'}]}, response_metadata={'token_usage': {'completion_tokens': 265, 'prompt_tokens': 320, 'total_tokens': 585, 'completion_time': 0.660790879, 'prompt_time': 0.036276535, 'queue_time': 0.376185358, 'total_time': 0.697067414}, 'model_name': 'qwen-qwq-32b', 'system_fingerprint': 'fp_fbb7e6cc39', 'finish_reason': 'tool_calls', 'logprobs': None}, id='run-5a30e671-a4c9-4314-a7bd-f359734c43d3-0', tool_calls=[{'name': 'wikipedia', 'args': {'query': 'Machine learning'}, 'id': 'call_z03e', 'type': 'tool_call'}], usage_metadata={'input_tokens': 320, 'output_tokens': 265, 'total_tokens': 585})"
      ]
     },
     "execution_count": 45,
     "metadata": {},
     "output_type": "execute_result"
    }
   ],
   "source": [
    "# calling the wiki tool or llm may also answer in some case by its own\n",
    "\n",
    "llm_with_tools.invoke(\"What is machine learning\")\n"
   ]
  },
  {
   "cell_type": "code",
   "execution_count": 46,
   "id": "fb055101",
   "metadata": {},
   "outputs": [
    {
     "data": {
      "text/plain": [
       "AIMessage(content='', additional_kwargs={'tool_calls': [{'id': 'call_gfdx', 'function': {'arguments': '{\"query\": \"AI\"}', 'name': 'arxiv'}, 'type': 'function'}]}, response_metadata={'token_usage': {'completion_tokens': 185, 'prompt_tokens': 323, 'total_tokens': 508, 'completion_time': 0.454387424, 'prompt_time': 0.05581029, 'queue_time': 0.39285911700000004, 'total_time': 0.510197714}, 'model_name': 'qwen-qwq-32b', 'system_fingerprint': 'fp_3796682456', 'finish_reason': 'tool_calls', 'logprobs': None}, id='run-ffbcf6cb-8397-4c82-bc2f-d13935a35bbb-0', tool_calls=[{'name': 'arxiv', 'args': {'query': 'AI'}, 'id': 'call_gfdx', 'type': 'tool_call'}], usage_metadata={'input_tokens': 323, 'output_tokens': 185, 'total_tokens': 508})"
      ]
     },
     "execution_count": 46,
     "metadata": {},
     "output_type": "execute_result"
    }
   ],
   "source": [
    "# for research paper related queries it calls arxiv tool\n",
    "\n",
    "llm_with_tools.invoke(\"What is latest research paper on ai\")\n"
   ]
  },
  {
   "cell_type": "code",
   "execution_count": null,
   "id": "79940aa1",
   "metadata": {},
   "outputs": [
    {
     "data": {
      "text/plain": [
       "AIMessage(content='', additional_kwargs={'tool_calls': [{'id': 'call_3ft4', 'function': {'arguments': '{\"query\": \"recent IPL match 2023 results\"}', 'name': 'tavily_search_results_json'}, 'type': 'function'}]}, response_metadata={'token_usage': {'completion_tokens': 481, 'prompt_tokens': 329, 'total_tokens': 810, 'completion_time': 1.169203792, 'prompt_time': 0.027006808, 'queue_time': 0.232774001, 'total_time': 1.1962106000000001}, 'model_name': 'qwen-qwq-32b', 'system_fingerprint': 'fp_3796682456', 'finish_reason': 'tool_calls', 'logprobs': None}, id='run-e671a94c-42e3-49bf-956f-9f203ab74f58-0', tool_calls=[{'name': 'tavily_search_results_json', 'args': {'query': 'recent IPL match 2023 results'}, 'id': 'call_3ft4', 'type': 'tool_call'}], usage_metadata={'input_tokens': 329, 'output_tokens': 481, 'total_tokens': 810})"
      ]
     },
     "execution_count": 22,
     "metadata": {},
     "output_type": "execute_result"
    }
   ],
   "source": [
    "\n",
    "# for recent advancements and things it used tally search as an tool to answer\n",
    "\n",
    "llm_with_tools.invoke(\"What is recent match in ipl 2025 \")\n"
   ]
  },
  {
   "cell_type": "code",
   "execution_count": 47,
   "id": "f7651f3a",
   "metadata": {},
   "outputs": [],
   "source": [
    "# let's not create workflow within langgraph\n",
    "\n",
    "from typing_extensions import TypedDict\n",
    "from typing import Literal, Annotated\n",
    "from IPython.display import display,Image\n",
    "from langgraph.graph import StateGraph,START,END\n",
    "from langgraph.prebuilt import ToolNode\n",
    "from langgraph.prebuilt import tools_condition\n",
    "from langgraph.graph.message import add_messages, AnyMessage\n"
   ]
  },
  {
   "cell_type": "code",
   "execution_count": 48,
   "id": "000f9a2c",
   "metadata": {},
   "outputs": [],
   "source": [
    "# building state for the graph / worklow\n",
    "\n",
    "class State(TypedDict):\n",
    "    messages : Annotated[list[AnyMessage], add_messages]"
   ]
  },
  {
   "cell_type": "code",
   "execution_count": 54,
   "id": "cbd764e8",
   "metadata": {},
   "outputs": [
    {
     "data": {
      "image/png": "[encoded data removed]",
      "text/plain": [
       "<IPython.core.display.Image object>"
      ]
     },
     "metadata": {},
     "output_type": "display_data"
    }
   ],
   "source": [
    "# creating nodes\n",
    "\n",
    "def tool_calling_llm(state:State):\n",
    "    return {\n",
    "        \"messages\" : llm_with_tools.invoke(state[\"messages\"])\n",
    "    }\n",
    "\n",
    "# Build Graph\n",
    "\n",
    "builder = StateGraph(State)\n",
    "builder.add_node(\"tool_calling_llm\" , tool_calling_llm)\n",
    "\n",
    "builder.add_node(\"tools\" , ToolNode(tools))\n",
    "\n",
    "\n",
    "# Add Edge\n",
    "\n",
    "builder.add_edge(START , \"tool_calling_llm\")\n",
    "builder.add_conditional_edges(\"tool_calling_llm\" , tools_condition)\n",
    "\n",
    "builder.add_edge(\"tools\" , \"tool_calling_llm\")\n",
    "\n",
    "graph = builder.compile()\n",
    "display(Image(graph.get_graph().draw_mermaid_png()))"
   ]
  },
  {
   "cell_type": "code",
   "execution_count": 55,
   "id": "1c216e23",
   "metadata": {},
   "outputs": [
    {
     "name": "stdout",
     "output_type": "stream",
     "text": [
      "================================\u001b[1m Human Message \u001b[0m=================================\n",
      "\n",
      "what is machine learning\n",
      "==================================\u001b[1m Ai Message \u001b[0m==================================\n",
      "Tool Calls:\n",
      "  wikipedia (call_v9xt)\n",
      " Call ID: call_v9xt\n",
      "  Args:\n",
      "    query: machine learning\n",
      "=================================\u001b[1m Tool Message \u001b[0m=================================\n",
      "Name: wikipedia\n",
      "\n",
      "Page: Machine learning\n",
      "Summary: Machine learning (ML) is a field of study in artificial intelligence concerned with the development and study of statistical algorithms that can learn from data and generalize to unseen data, and thus perform tasks without explicit instructions. Within a subdiscipline in machine learning, advances in the field of deep learning have allowed neural networks, a class of statistical algorithms, to surpass many previous machine learning approaches in performance.\n",
      "ML fi\n",
      "==================================\u001b[1m Ai Message \u001b[0m==================================\n",
      "\n",
      "Machine learning (ML) is a branch of artificial intelligence focused on developing **statistical algorithms** that can learn patterns from data, enabling systems to make decisions or predictions **without explicit step-by-step instructions**. These algorithms analyze input data to identify hidden patterns, generalize from training examples, and improve performance over time. A key subfield, **deep learning**, uses neural networks to achieve state-of-the-art results in tasks like image recognition, natural language processing, and more. At its core, ML empowers systems to \"learn\" from experience (data) rather than relying solely on rigid, predefined rules.\n"
     ]
    }
   ],
   "source": [
    "# test it\n",
    "\n",
    "# see it uses tool - wiki to answer\n",
    "\n",
    "meesages = graph.invoke({\"messages\" : \"what is machine learning\"})\n",
    "\n",
    "for message in meesages['messages']:\n",
    "    message.pretty_print()\n"
   ]
  },
  {
   "cell_type": "code",
   "execution_count": 56,
   "id": "1d64bc6e",
   "metadata": {},
   "outputs": [
    {
     "name": "stdout",
     "output_type": "stream",
     "text": [
      "================================\u001b[1m Human Message \u001b[0m=================================\n",
      "\n",
      "Hi my name is jassi , tell me what top festival in india\n",
      "==================================\u001b[1m Ai Message \u001b[0m==================================\n",
      "Tool Calls:\n",
      "  wikipedia (call_9wcv)\n",
      " Call ID: call_9wcv\n",
      "  Args:\n",
      "    query: List of festivals in India\n",
      "=================================\u001b[1m Tool Message \u001b[0m=================================\n",
      "Name: wikipedia\n",
      "\n",
      "Page: List of festivals in India\n",
      "Summary: This is a partial listing of festivals in India.\n",
      "\n",
      "Page: List of film festivals in India\n",
      "Summary: This is a list of film festivals in India.\n",
      "==================================\u001b[1m Ai Message \u001b[0m==================================\n",
      "\n",
      "India is known for its rich cultural diversity and numerous festivals. Some of the most prominent and widely celebrated festivals across the country include:\n",
      "\n",
      "1. **Diwali** (Festival of Lights) – A major Hindu festival celebrating light over darkness, good over evil, with lanterns, fireworks, and family gatherings.\n",
      "2. **Holi** (Festival of Colors) – A vibrant spring festival where people throw colored powders and water, symbolizing the arrival of spring and the triumph of good over evil.\n",
      "3. **Dussehra** – Marks the victory of Lord Rama over the demon king Ravana, celebrating good’s triumph over evil, often with elaborate processions and effigy burnings.\n",
      "4. **Eid al-Fitr** – A significant Muslim festival ending Ramadan, featuring prayers, feasts, and community gatherings.\n",
      "5. **Durga Puja** – A major Bengali Hindu festival honoring Goddess Durga, celebrated with grand pandals (decorated structures), dances, and processions.\n",
      "6. **Ganesh Chaturthi** – A Hindu festival celebrating the birth of Lord Ganesha, with massive idols immersed in water after prayers.\n",
      "7. **Lonathon** – A Christian festival in Nagaland, India, featuring tribal dances and cultural performances.\n",
      "\n",
      "These festivals reflect India’s cultural tapestry, with regional variations and local traditions adding unique flavors to each celebration! 🌟\n"
     ]
    }
   ],
   "source": [
    "# test it\n",
    "\n",
    "meesages = graph.invoke({\"messages\" : \"Hi my name is jassi , tell me what top festival in india\"})\n",
    "\n",
    "for message in meesages['messages']:\n",
    "    message.pretty_print()\n"
   ]
  },
  {
   "cell_type": "code",
   "execution_count": null,
   "id": "496842f8",
   "metadata": {},
   "outputs": [],
   "source": []
  }
 ],
 "metadata": {
  "kernelspec": {
   "display_name": "venv",
   "language": "python",
   "name": "python3"
  },
  "language_info": {
   "codemirror_mode": {
    "name": "ipython",
    "version": 3
   },
   "file_extension": ".py",
   "mimetype": "text/x-python",
   "name": "python",
   "nbconvert_exporter": "python",
   "pygments_lexer": "ipython3",
   "version": "3.13.2"
  }
 },
 "nbformat": 4,
 "nbformat_minor": 5
}
